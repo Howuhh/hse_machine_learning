{
 "cells": [
  {
   "cell_type": "code",
   "execution_count": 1,
   "metadata": {},
   "outputs": [],
   "source": [
    "import numpy as np"
   ]
  },
  {
   "cell_type": "markdown",
   "metadata": {},
   "source": [
    "1. Мы рекурсивно спускаемся по дереву, а потом возвращаемся по этой рекурсии с уже найденным списком соседей. \n",
    "\n",
    "2. Затем сравниваем расстояние до самого дальнего из соседей с расстоянием до разделяющей границы на этом уровне и,\n",
    "3. если оно больше, то делаем запрос к соседнему поддереву, \n",
    "4. получаем второй список соседей и объединяем два списка (новый и старый)"
   ]
  },
  {
   "cell_type": "code",
   "execution_count": 200,
   "metadata": {},
   "outputs": [],
   "source": [
    "class Node:\n",
    "    def __init__(self, median=None, axis=None, data=None):\n",
    "        self.median = median\n",
    "        self.axis = axis\n",
    "        self.data = data\n",
    "        \n",
    "        self.left = None\n",
    "        self.right = None\n",
    "    \n",
    "    def is_leaf(self):\n",
    "        return self.left is None and self.right is None\n",
    "    \n",
    "    def neighbors(self, point, k=2):\n",
    "        dist = np.sqrt(np.sum((self.data[:, 1:] - point)**2, axis=1))\n",
    "        idxs = np.argsort(dist)[:k]\n",
    "        \n",
    "        return self.data[idxs, 0], dist[idxs]        "
   ]
  },
  {
   "cell_type": "code",
   "execution_count": 201,
   "metadata": {},
   "outputs": [],
   "source": [
    "# TODO: not working!\n",
    "def merge(n1, d1, n2, d2, k):\n",
    "    dists = np.hstack([d1, d2])\n",
    "    neighs = np.hstack([n1, n2])\n",
    "    \n",
    "    idxs = np.argsort(dists)[:k]\n",
    "    \n",
    "    return neighs[idxs], dists[idxs]"
   ]
  },
  {
   "cell_type": "code",
   "execution_count": 202,
   "metadata": {},
   "outputs": [],
   "source": [
    "class KDTree:\n",
    "    def __init__(self, X, leaf_size=10):\n",
    "        self.X = np.hstack([np.arange(X.shape[0]).reshape(-1, 1), X])\n",
    "        self.dim = X.shape[1]\n",
    "        \n",
    "        self.leaf_size = leaf_size\n",
    "        self.root = self._build_tree(self.X)\n",
    "        \n",
    "    def _build_tree(self, X, depth=0):\n",
    "        axis = (depth % self.dim) + 1\n",
    "        \n",
    "        median = np.median(X[:, axis])\n",
    "        X_left, X_right = X[X[:, axis] < median], X[X[:, axis] >= median]\n",
    "        \n",
    "        if X_left.shape[0] < self.leaf_size or X_right.shape[0] < self.leaf_size:\n",
    "            return Node(data=X)\n",
    "        \n",
    "        root = Node(median=median, axis=axis)\n",
    "        root.left = self._build_tree(X_left, depth + 1)\n",
    "        root.right = self._build_tree(X_right, depth + 1)\n",
    "        \n",
    "        return root\n",
    "    \n",
    "    def _query(self, root, point, k):\n",
    "        if root.is_leaf():\n",
    "            return root.neighbors(point, k)\n",
    "        \n",
    "        axis = root.axis\n",
    "        if point[axis] < root.median:\n",
    "            neigh, dist = self._query(root.left, point, k)\n",
    "            other_node = root.right\n",
    "        else:\n",
    "            neigh, dist = self._query(root.right, point, k)\n",
    "            other_node = root.left\n",
    "            \n",
    "        if dist[-1] > abs(point[axis] - root.median):\n",
    "            new_neigh, new_dist = self._query(other_node, point, k)\n",
    "            \n",
    "            return merge(neigh, dist, new_neigh, new_dist, k)\n",
    "            \n",
    "        return neigh, dist\n",
    "    \n",
    "    def query(self, X, k):\n",
    "        neighs = np.zeros(shape=(X.shape[0], k))\n",
    "        \n",
    "        for i, point in enumerate(X):\n",
    "            neigh, dist = self._query(self.root, point, k)\n",
    "            neighs[i, :] = neigh\n",
    "        \n",
    "        return neighs"
   ]
  },
  {
   "cell_type": "code",
   "execution_count": 203,
   "metadata": {},
   "outputs": [],
   "source": [
    "X = np.random.uniform(size=(10, 3))"
   ]
  },
  {
   "cell_type": "code",
   "execution_count": 204,
   "metadata": {},
   "outputs": [],
   "source": [
    "tree = KDTree(X)"
   ]
  },
  {
   "cell_type": "code",
   "execution_count": 205,
   "metadata": {},
   "outputs": [
    {
     "data": {
      "text/plain": [
       "array([[0., 1., 8., 2., 5., 6., 9., 3., 4., 7.],\n",
       "       [1., 0., 8., 2., 5., 4., 3., 6., 9., 7.],\n",
       "       [2., 8., 4., 1., 5., 9., 7., 3., 0., 6.],\n",
       "       [3., 5., 2., 6., 4., 9., 1., 7., 8., 0.],\n",
       "       [4., 2., 8., 3., 1., 5., 7., 9., 0., 6.]])"
      ]
     },
     "execution_count": 205,
     "metadata": {},
     "output_type": "execute_result"
    }
   ],
   "source": [
    "tree.query(X[:5], k=10)"
   ]
  }
 ],
 "metadata": {
  "kernelspec": {
   "display_name": "Python 3",
   "language": "python",
   "name": "python3"
  },
  "language_info": {
   "codemirror_mode": {
    "name": "ipython",
    "version": 3
   },
   "file_extension": ".py",
   "mimetype": "text/x-python",
   "name": "python",
   "nbconvert_exporter": "python",
   "pygments_lexer": "ipython3",
   "version": "3.7.4"
  }
 },
 "nbformat": 4,
 "nbformat_minor": 2
}
