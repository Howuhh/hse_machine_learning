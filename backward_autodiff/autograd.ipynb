{
 "cells": [
  {
   "cell_type": "code",
   "execution_count": 252,
   "metadata": {},
   "outputs": [
    {
     "name": "stdout",
     "output_type": "stream",
     "text": [
      "The autoreload extension is already loaded. To reload it, use:\n",
      "  %reload_ext autoreload\n"
     ]
    }
   ],
   "source": [
    "%load_ext autoreload\n",
    "%autoreload 2\n",
    "\n",
    "import torch\n",
    "import numpy as np\n",
    "\n",
    "from scipy.special import expit\n",
    "from collections import deque"
   ]
  },
  {
   "cell_type": "markdown",
   "metadata": {},
   "source": [
    "## References\n",
    "\n",
    "\n",
    "### Forward mode & dual numbers\n",
    "\n",
    "- https://en.wikipedia.org/wiki/Dual_number\n",
    "- https://blog.demofox.org/2014/12/30/dual-numbers-automatic-differentiation/\n",
    "- https://blog.demofox.org/2017/02/20/multivariable-dual-numbers-automatic-differentiation/\n",
    "- https://marksaroufim.medium.com/automatic-differentiation-step-by-step-24240f97a6e6\n",
    "\n",
    "### Backward mode & backpropagation\n",
    "\n",
    "- https://www.jmlr.org/papers/volume18/17-468/17-468.pdf\n",
    "- https://sidsite.com/posts/autodiff/\n",
    "- https://github.com/karpathy/micrograd"
   ]
  },
  {
   "cell_type": "code",
   "execution_count": 815,
   "metadata": {},
   "outputs": [],
   "source": [
    "class Tensor:\n",
    "    def __init__(self, value):\n",
    "        if isinstance(value, (int, float)):\n",
    "            value = [value]\n",
    "\n",
    "        self.value = np.array(value)\n",
    "        \n",
    "        self.grad = None\n",
    "        self.children = []\n",
    "        \n",
    "    @property\n",
    "    def leaf_node(self):\n",
    "        return not bool(self.children)\n",
    "        \n",
    "    @property\n",
    "    def shape(self):\n",
    "        return self.value.shape\n",
    "    \n",
    "    @property\n",
    "    def safe_grad(self):\n",
    "        return self.zeros(self.shape) if self.grad is None else self.grad\n",
    "    \n",
    "    @staticmethod\n",
    "    def check_input(value):\n",
    "        if isinstance(value, (int, float)):\n",
    "            return Tensor([value])\n",
    "        elif isinstance(value, (list, np.ndarray)):\n",
    "            return Tensor(value)\n",
    "        return value\n",
    "    \n",
    "    # magick, тут я честно наоубом захуярил\n",
    "    @staticmethod\n",
    "    def unbroadcast(out, in_shape):\n",
    "        sum_axis = None\n",
    "        # Need to sum all axis with 1 = in_shape[i] < out.shape[i]\n",
    "        if in_shape != (1,):\n",
    "            sum_axis = tuple([i for i in range(len(in_shape)) if in_shape[i] == 1 and out.shape[i] > 1])\n",
    "\n",
    "        return Tensor(out.value.sum(axis=sum_axis).reshape(in_shape))\n",
    "    \n",
    "    @staticmethod\n",
    "    def ones(shape):\n",
    "        return Tensor(np.ones(shape))\n",
    "    \n",
    "    @staticmethod\n",
    "    def zeros(shape):\n",
    "        return Tensor(np.zeros(shape))\n",
    "        \n",
    "    @staticmethod\n",
    "    def uniform(shape):\n",
    "        return Tensor(np.random.uniform(size=shape))\n",
    "        \n",
    "    @staticmethod\n",
    "    def topsort(root):\n",
    "        sort, visited = deque(), set()\n",
    "        \n",
    "        def dfs(node):\n",
    "            for child in node.children:\n",
    "                if child not in visited:\n",
    "                    visited.add(child)\n",
    "                    dfs(child)\n",
    "            sort.appendleft(node)\n",
    "        \n",
    "        dfs(root)\n",
    "        return sort\n",
    "    \n",
    "    def backward(self):\n",
    "        topsort = self.topsort(self)\n",
    "        self.grad = self.ones(self.shape)\n",
    "        \n",
    "        for root in topsort:\n",
    "            if not root.leaf_node:\n",
    "                out_grad = root._backward(root.grad.value)\n",
    "                \n",
    "                for i, child in enumerate(root.children):  \n",
    "                    child.grad = child.safe_grad + out_grad[i]\n",
    "                    child.grad = self.unbroadcast(child.grad, child.shape)\n",
    "                    \n",
    "    def reshape(self, *shapes):\n",
    "        return Tensor(self.value.reshape(*shapes))\n",
    "    \n",
    "    def sum(self):\n",
    "        node = Tensor(self.value.sum(axis=None))\n",
    "        \n",
    "        def _backward(din):\n",
    "            return [din]\n",
    "        \n",
    "        node._backward = _backward\n",
    "        node.children = [self]\n",
    "        \n",
    "        return node\n",
    "\n",
    "    def norm(self):\n",
    "        return np.linalg.norm(self.value)\n",
    "    \n",
    "    def sigmoid(self):\n",
    "        exp = expit(self.value)\n",
    "        \n",
    "        node = Tensor(exp)\n",
    "        \n",
    "        def _backward(din):\n",
    "            return [din * exp * (1 - exp)]\n",
    "        \n",
    "        node._backward = _backward\n",
    "        node.children = [self]\n",
    "        \n",
    "        return node\n",
    "    \n",
    "    def relu(self):\n",
    "        node = Tensor(np.maximum(0, self.value))\n",
    "        \n",
    "        def _backward(din):\n",
    "            return [din * (self.value >= 0)]\n",
    "        \n",
    "        node._backward = _backward\n",
    "        node.children = [self]\n",
    "        \n",
    "        return node\n",
    "    \n",
    "    def __matmul__(self, other):\n",
    "        node = Tensor(self.value @ other.value)\n",
    "        \n",
    "        def _backward(din):\n",
    "            return [din @ other.value.T, self.value.T @ din]\n",
    "        \n",
    "        node._backward = _backward\n",
    "        node.children = [self, other]\n",
    "        \n",
    "        return node\n",
    "    \n",
    "    def __rmatmul__(self, other):\n",
    "        pass\n",
    "        \n",
    "    def __add__(self, other):\n",
    "        other = self.check_input(other)\n",
    "        \n",
    "        node = Tensor(self.value + other.value)\n",
    "        \n",
    "        def _backward(din):\n",
    "            return [din, din]\n",
    "\n",
    "        node._backward = _backward\n",
    "        node.children = [self, other]\n",
    "        \n",
    "        return node\n",
    "    \n",
    "    def __radd__(self, other):\n",
    "        return self + other\n",
    "    \n",
    "    def __sub__(self, other):\n",
    "        return self + (-other)\n",
    "    \n",
    "    def __rsub__(self, other):\n",
    "        return self + (-other)\n",
    "    \n",
    "    def __iadd__(self, other):\n",
    "        other = self.check_input(other)\n",
    "        self.value = self.value + other.value\n",
    "        \n",
    "        return self\n",
    "    \n",
    "    def __isub__(self, other):\n",
    "        other = self.check_input(other)\n",
    "        self.value = self.value - other.value\n",
    "        \n",
    "        return self\n",
    "    \n",
    "    def __mul__(self, other):\n",
    "        other = self.check_input(other)\n",
    "        \n",
    "        node = Tensor(self.value * other.value)\n",
    "        \n",
    "        def _backward(din):\n",
    "            return [din * other.value, din * self.value]\n",
    "\n",
    "        node._backward = _backward\n",
    "        node.children = [self, other]\n",
    "        \n",
    "        return node\n",
    "\n",
    "    def __rmul__(self, other):\n",
    "        return self * other\n",
    "    \n",
    "    def __pow__(self, other):\n",
    "        assert isinstance(other, (int, float))\n",
    "        \n",
    "        node = Tensor(self.value ** other)\n",
    "        \n",
    "        def _backward(din):\n",
    "            return [din * (other * self.value ** (other - 1))]\n",
    "        \n",
    "        node._backward = _backward\n",
    "        node.children = [self]\n",
    "        \n",
    "        return node\n",
    "    \n",
    "    def __neg__(self):\n",
    "        return self * -1\n",
    "    \n",
    "    def __repr__(self):\n",
    "        array_repr = \",\\n\".join([7*\" \" + str(line) if i > 0 else str(line) for i, line in enumerate(self.value)])\n",
    "                \n",
    "        return f\"Tensor({array_repr})\""
   ]
  },
  {
   "cell_type": "code",
   "execution_count": 549,
   "metadata": {},
   "outputs": [],
   "source": [
    "x_ = np.random.uniform(size=(2, 3))\n",
    "y_ = np.random.uniform(size=(2, 3))"
   ]
  },
  {
   "cell_type": "code",
   "execution_count": 550,
   "metadata": {},
   "outputs": [],
   "source": [
    "x = torch.tensor(x_, requires_grad=True)\n",
    "y = torch.tensor(y_, requires_grad=True)\n",
    "z = torch.sum((x - y)**2)\n",
    "\n",
    "z.backward(torch.ones_like(z))"
   ]
  },
  {
   "cell_type": "code",
   "execution_count": 551,
   "metadata": {},
   "outputs": [
    {
     "data": {
      "text/plain": [
       "tensor([[ 0.4898,  0.7357,  0.0955],\n",
       "        [ 1.3376, -0.1113,  0.1987]], dtype=torch.float64)"
      ]
     },
     "execution_count": 551,
     "metadata": {},
     "output_type": "execute_result"
    }
   ],
   "source": [
    "x.grad"
   ]
  },
  {
   "cell_type": "code",
   "execution_count": 684,
   "metadata": {},
   "outputs": [],
   "source": [
    "mx = Tensor(x_)\n",
    "my = Tensor(y_)\n",
    "mz = ((mx - my)**2).sum()\n",
    "\n",
    "mz.backward()"
   ]
  },
  {
   "cell_type": "code",
   "execution_count": 685,
   "metadata": {},
   "outputs": [
    {
     "data": {
      "text/plain": [
       "Tensor([0.48984973 0.73570217 0.09549759],\n",
       "       [ 1.33759629 -0.11125404  0.19871018])"
      ]
     },
     "execution_count": 685,
     "metadata": {},
     "output_type": "execute_result"
    }
   ],
   "source": [
    "mx.grad"
   ]
  },
  {
   "cell_type": "markdown",
   "metadata": {},
   "source": [
    "# Optimization test"
   ]
  },
  {
   "cell_type": "markdown",
   "metadata": {},
   "source": [
    "TODO: check grads with torch!"
   ]
  },
  {
   "cell_type": "code",
   "execution_count": 771,
   "metadata": {},
   "outputs": [],
   "source": [
    "import matplotlib.pyplot as plt"
   ]
  },
  {
   "cell_type": "code",
   "execution_count": 807,
   "metadata": {},
   "outputs": [],
   "source": [
    "class Linear:\n",
    "    def __init__(self, in_shape, out_shape):\n",
    "        self.W = Tensor.uniform((in_shape, out_shape))\n",
    "        self.b = Tensor.uniform((1, out_shape))\n",
    "        \n",
    "    def __call__(self, X):\n",
    "        return (X @ self.W) + self.b\n",
    "\n",
    "\n",
    "class SimpleRegNet:\n",
    "    def __init__(self, in_shape):\n",
    "        self.l1 = Linear(in_shape, 32) \n",
    "        self.l2 = Linear(32, 32)\n",
    "        self.l3 = Linear(32, 1)\n",
    "        \n",
    "    def parameters(self):\n",
    "        return [self.l1.W, self.l1.b, self.l2.W, self.l2.b, self.l3.W, self.l3.b]\n",
    "        \n",
    "    def zero_grad(self):\n",
    "        for param in self.parameters():\n",
    "            param.grad = None\n",
    "            \n",
    "    def __call__(self, X):\n",
    "        x = self.l1(X)\n",
    "        x = self.l2(x)\n",
    "        \n",
    "        return self.l3(x)\n",
    "\n",
    "def mse(y_pred, y_true):\n",
    "    return ((y_pred - y_true)**2).sum() * (1 / y_true.shape[0])"
   ]
  },
  {
   "cell_type": "code",
   "execution_count": 836,
   "metadata": {},
   "outputs": [],
   "source": [
    "from sklearn.datasets import make_regression\n",
    "\n",
    "X_, y_ = make_regression(100, 1, bias=15.0, noise=20)\n",
    "X, y = Tensor(X_), Tensor(y_).reshape(-1, 1)"
   ]
  },
  {
   "cell_type": "code",
   "execution_count": 837,
   "metadata": {
    "scrolled": true
   },
   "outputs": [
    {
     "name": "stdout",
     "output_type": "stream",
     "text": [
      "28056.231660523223\n",
      "23317.460627531527\n",
      "19210.740269910475\n",
      "15675.55940664438\n",
      "12655.153428664888\n",
      "10096.378293791548\n",
      "7949.586483538012\n",
      "6168.504919036088\n",
      "4710.114806217724\n",
      "3534.533317025505\n",
      "2604.896865521048\n",
      "1887.2453822940013\n",
      "1350.4060872675568\n",
      "965.8727641155995\n",
      "707.6687641584429\n",
      "552.1533953424004\n",
      "459.8961726404722\n",
      "406.2587842235396\n",
      "383.8716818432483\n",
      "378.85803893895167\n",
      "383.97787381974183\n",
      "378.60385714378623\n",
      "383.6864430526381\n",
      "378.41491533421424\n",
      "383.46843437321564\n",
      "378.27378557657175\n",
      "383.30436486915977\n",
      "378.16747069627877\n",
      "383.17968214714864\n",
      "378.0863747538793\n",
      "383.0836133801105\n",
      "378.0234706041244\n",
      "383.00824419202104\n",
      "377.97364640104877\n",
      "382.94779774364974\n",
      "377.93320384783226\n",
      "382.89808064225565\n",
      "377.8994794109223\n",
      "382.85606327946465\n",
      "377.8705620629433\n",
      "382.81956575408105\n",
      "377.84508508232705\n",
      "382.78702509796915\n",
      "377.8220737093269\n",
      "382.75732414109643\n",
      "377.80083439026066\n",
      "382.72966653285636\n",
      "377.7808746788641\n",
      "382.7034859826199\n",
      "377.76184555990477\n"
     ]
    }
   ],
   "source": [
    "net = SimpleRegNet(X.shape[1])\n",
    "lr = 0.1\n",
    "\n",
    "for i in range(50):\n",
    "    net.zero_grad()\n",
    "    \n",
    "    loss = mse(net(X), y)\n",
    "    loss.backward()\n",
    "    \n",
    "    for param in net.parameters():\n",
    "        param -= lr * param.grad * (1 / param.grad.norm())\n",
    "\n",
    "    print(loss.value[0])"
   ]
  },
  {
   "cell_type": "code",
   "execution_count": 838,
   "metadata": {},
   "outputs": [
    {
     "data": {
      "text/plain": [
       "<matplotlib.collections.PathCollection at 0x139280150>"
      ]
     },
     "execution_count": 838,
     "metadata": {},
     "output_type": "execute_result"
    },
    {
     "data": {
      "image/png": "[encoded data removed]",
      "text/plain": [
       "<Figure size 432x288 with 1 Axes>"
      ]
     },
     "metadata": {
      "needs_background": "light"
     },
     "output_type": "display_data"
    }
   ],
   "source": [
    "plt.scatter(X_, y_)\n",
    "plt.scatter(X_, net(X).value, c=\"red\") "
   ]
  },
  {
   "cell_type": "code",
   "execution_count": 864,
   "metadata": {},
   "outputs": [],
   "source": [
    "from sklearn.datasets import load_boston\n",
    "from tqdm.notebook import tqdm\n",
    "\n",
    "X_, y_ = load_boston()[\"data\"], load_boston()[\"target\"]\n",
    "X, y = Tensor(X_), Tensor(y_).reshape(-1, 1)"
   ]
  },
  {
   "cell_type": "code",
   "execution_count": 866,
   "metadata": {
    "scrolled": true
   },
   "outputs": [
    {
     "data": {
      "application/vnd.jupyter.widget-view+json": {
       "model_id": "587ff0f1a8ca4cd28ca7e0b66798463f",
       "version_major": 2,
       "version_minor": 0
      },
      "text/plain": [
       "HBox(children=(FloatProgress(value=0.0, max=10000.0), HTML(value='')))"
      ]
     },
     "metadata": {},
     "output_type": "display_data"
    },
    {
     "name": "stdout",
     "output_type": "stream",
     "text": [
      "\n",
      "54.54732220984849\n"
     ]
    }
   ],
   "source": [
    "net = SimpleRegNet(X.shape[1])\n",
    "lr = 0.1\n",
    "\n",
    "for i in tqdm(range(10_000)):\n",
    "    net.zero_grad()\n",
    "    \n",
    "    loss = mse(net(X), y)\n",
    "    loss.backward()\n",
    "    \n",
    "    for param in net.parameters():\n",
    "        lr = lr / (1 + 2e-6 * i)\n",
    "        \n",
    "        param -= lr * param.grad * (1 / param.grad.norm())\n",
    "\n",
    "print(loss.value[0])"
   ]
  }
 ],
 "metadata": {
  "kernelspec": {
   "display_name": "Python 3",
   "language": "python",
   "name": "python3"
  },
  "language_info": {
   "codemirror_mode": {
    "name": "ipython",
    "version": 3
   },
   "file_extension": ".py",
   "mimetype": "text/x-python",
   "name": "python",
   "nbconvert_exporter": "python",
   "pygments_lexer": "ipython3",
   "version": "3.7.4"
  }
 },
 "nbformat": 4,
 "nbformat_minor": 2
}
